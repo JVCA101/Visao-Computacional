{
 "cells": [
  {
   "cell_type": "code",
   "execution_count": 1,
   "metadata": {
    "executionInfo": {
     "elapsed": 12,
     "status": "ok",
     "timestamp": 1740513370146,
     "user": {
      "displayName": "JOAO VICTOR CORREA DE ALMEIDA",
      "userId": "08522568365246387241"
     },
     "user_tz": 180
    },
    "id": "_UQWX_YgmShY"
   },
   "outputs": [],
   "source": [
    "import torch\n",
    "from torch import nn\n",
    "from torch.utils.data import DataLoader\n",
    "from torchvision import datasets, transforms\n",
    "from torchvision.transforms import ToTensor, Compose, Resize, Normalize\n",
    "\n",
    "import numpy as np\n",
    "import matplotlib.pyplot as plt\n",
    "import seaborn as sns\n",
    "from sklearn.metrics import confusion_matrix\n",
    "\n",
    "from models.AlexNet import AlexNet\n",
    "from models.VGG13 import VGG13\n",
    "from models.FrankNet import FrankNet"
   ]
  },
  {
   "cell_type": "markdown",
   "metadata": {},
   "source": [
    "# Setup"
   ]
  },
  {
   "cell_type": "code",
   "execution_count": null,
   "metadata": {
    "colab": {
     "base_uri": "https://localhost:8080/"
    },
    "executionInfo": {
     "elapsed": 1462,
     "status": "ok",
     "timestamp": 1740513371607,
     "user": {
      "displayName": "JOAO VICTOR CORREA DE ALMEIDA",
      "userId": "08522568365246387241"
     },
     "user_tz": 180
    },
    "id": "CKCVotU2mh4m",
    "outputId": "8f02dcab-e990-42d3-f0fa-b5a6d5fc4ae4"
   },
   "outputs": [
    {
     "name": "stdout",
     "output_type": "stream",
     "text": [
      "Files already downloaded and verified\n",
      "Files already downloaded and verified\n"
     ]
    }
   ],
   "source": [
    "device = \"cuda\" if torch.cuda.is_available() else \"cpu\"\n",
    "\n",
    "transform = Compose([\n",
    "    Resize((227,227)),\n",
    "    ToTensor(),\n",
    "    Normalize(mean=[0.49139968, 0.48215841, 0.44653091], std=[0.24703223, 0.24348513, 0.26158784])\n",
    "])\n",
    "\n",
    "training_data = datasets.CIFAR10(root=\"data\", train=True, download=True, transform=transform)\n",
    "test_data = datasets.CIFAR10(root=\"data\", train=False, download=True, transform=transform)\n",
    "\n",
    "batch_size = 8\n",
    "\n",
    "train_loader = DataLoader(training_data, batch_size=batch_size)\n",
    "test_loader = DataLoader(test_data, batch_size=batch_size)"
   ]
  },
  {
   "cell_type": "code",
   "execution_count": 3,
   "metadata": {
    "executionInfo": {
     "elapsed": 25,
     "status": "ok",
     "timestamp": 1740513371925,
     "user": {
      "displayName": "JOAO VICTOR CORREA DE ALMEIDA",
      "userId": "08522568365246387241"
     },
     "user_tz": 180
    },
    "id": "70u5DpdQpmdC"
   },
   "outputs": [],
   "source": [
    "def train(dataloader, model, loss_fn, optimizer):\n",
    "    # Obtém o tamanho do dataset\n",
    "    size = len(dataloader.dataset)\n",
    "    # Indica que o modelo está em processo de treinamento\n",
    "    model.train()\n",
    "\n",
    "    # Define a loss total do treinamento\n",
    "    totalLoss = 0\n",
    "\n",
    "    # Itera sobre os lotes\n",
    "    for batch, (X, y) in enumerate(dataloader):\n",
    "        # transforma as entradas no formato do dispositivo utilizado (CPU ou GPU)\n",
    "        X, y = X.to(device), y.to(device)\n",
    "\n",
    "        # Faz a predição para os valores atuais dos parâmetros\n",
    "        pred = model(X)\n",
    "\n",
    "        # Estima o valor da função de perda\n",
    "        loss = loss_fn(pred, y)\n",
    "\n",
    "        # Incrementa a loss total\n",
    "        totalLoss += loss\n",
    "\n",
    "        # Backpropagation\n",
    "\n",
    "        # Limpa os gradientes\n",
    "        optimizer.zero_grad()\n",
    "\n",
    "        # Estima os gradientes\n",
    "        loss.backward()\n",
    "\n",
    "        # Atualiza os pesos da rede\n",
    "        optimizer.step()\n",
    "\n",
    "        if batch % 128 == 0:\n",
    "            loss, current = loss.item(), batch * len(X)\n",
    "            print(f\"loss: {loss:>7f} [{current:>5d}/{size:>5d}]\")\n",
    "\n",
    "    print(f\"Epoch average loss: {totalLoss/len(dataloader):>7f}\")\n",
    "\n",
    "def test(dataloader, model, loss_fn):\n",
    "    # Obtém o tamanho do dataset\n",
    "    size = len(dataloader.dataset)\n",
    "\n",
    "    # Obtém o número de lotes (iterações)\n",
    "    num_batches = len(dataloader)\n",
    "\n",
    "    # Indica que o modelo está em processo de teste\n",
    "    model.eval()\n",
    "\n",
    "    # Inicializa a perda de teste e a quantidade de acertos com 0\n",
    "    test_loss, correct = 0, 0\n",
    "\n",
    "    # Desabilita o cálculo do gradiente\n",
    "    with torch.no_grad():\n",
    "        # Itera sobre o conjunto de teste\n",
    "        for X, y in dataloader:\n",
    "            # transforma as entradas no formato do dispositivo utilizado (CPU ou GPU)\n",
    "            X, y = X.to(device), y.to(device)\n",
    "            # Realiza a predição\n",
    "            pred = model(X)\n",
    "\n",
    "            # Calcula a perda\n",
    "            test_loss += loss_fn(pred, y).item()\n",
    "            # Verifica se a predição foi correta\n",
    "            correct += (pred.argmax(1) == y).type(torch.float).sum().item()\n",
    "    # Determina a perda média e a proporção de acertos\n",
    "    test_loss /= num_batches\n",
    "    correct /= size\n",
    "    # LOG: mostra a acurácia e a perda\n",
    "    print(f\"Test Error: \\n Accuracy: {(100*correct):>0.1f}%, Avg loss: {test_loss:>8f} \\n\")"
   ]
  },
  {
   "cell_type": "markdown",
   "metadata": {},
   "source": [
    "# Models"
   ]
  },
  {
   "cell_type": "markdown",
   "metadata": {},
   "source": [
    "## VGG13"
   ]
  },
  {
   "cell_type": "code",
   "execution_count": 4,
   "metadata": {},
   "outputs": [
    {
     "name": "stdout",
     "output_type": "stream",
     "text": [
      "VGG13(\n",
      "  (conv_layer): Sequential(\n",
      "    (0): Conv2d(3, 64, kernel_size=(3, 3), stride=(1, 1), padding=(1, 1))\n",
      "    (1): ReLU()\n",
      "    (2): Conv2d(64, 64, kernel_size=(3, 3), stride=(1, 1), padding=(1, 1))\n",
      "    (3): ReLU()\n",
      "    (4): BatchNorm2d(64, eps=1e-05, momentum=0.1, affine=True, track_running_stats=True)\n",
      "    (5): MaxPool2d(kernel_size=2, stride=2, padding=0, dilation=1, ceil_mode=False)\n",
      "    (6): Conv2d(64, 128, kernel_size=(3, 3), stride=(1, 1), padding=(1, 1))\n",
      "    (7): ReLU()\n",
      "    (8): Conv2d(128, 128, kernel_size=(3, 3), stride=(1, 1), padding=(1, 1))\n",
      "    (9): ReLU()\n",
      "    (10): BatchNorm2d(128, eps=1e-05, momentum=0.1, affine=True, track_running_stats=True)\n",
      "    (11): MaxPool2d(kernel_size=2, stride=2, padding=0, dilation=1, ceil_mode=False)\n",
      "    (12): Conv2d(128, 256, kernel_size=(3, 3), stride=(1, 1), padding=(1, 1))\n",
      "    (13): ReLU()\n",
      "    (14): Conv2d(256, 256, kernel_size=(3, 3), stride=(1, 1), padding=(1, 1))\n",
      "    (15): ReLU()\n",
      "    (16): BatchNorm2d(256, eps=1e-05, momentum=0.1, affine=True, track_running_stats=True)\n",
      "    (17): MaxPool2d(kernel_size=2, stride=2, padding=0, dilation=1, ceil_mode=False)\n",
      "    (18): Conv2d(256, 512, kernel_size=(3, 3), stride=(1, 1), padding=(1, 1))\n",
      "    (19): ReLU()\n",
      "    (20): Conv2d(512, 512, kernel_size=(3, 3), stride=(1, 1), padding=(1, 1))\n",
      "    (21): ReLU()\n",
      "    (22): BatchNorm2d(512, eps=1e-05, momentum=0.1, affine=True, track_running_stats=True)\n",
      "    (23): MaxPool2d(kernel_size=2, stride=2, padding=0, dilation=1, ceil_mode=False)\n",
      "    (24): Conv2d(512, 512, kernel_size=(3, 3), stride=(1, 1), padding=(1, 1))\n",
      "    (25): ReLU()\n",
      "    (26): Conv2d(512, 512, kernel_size=(3, 3), stride=(1, 1), padding=(1, 1))\n",
      "    (27): ReLU()\n",
      "    (28): BatchNorm2d(512, eps=1e-05, momentum=0.1, affine=True, track_running_stats=True)\n",
      "    (29): MaxPool2d(kernel_size=2, stride=2, padding=0, dilation=1, ceil_mode=False)\n",
      "  )\n",
      "  (flatten): Flatten(start_dim=1, end_dim=-1)\n",
      "  (full_layer): Sequential(\n",
      "    (0): Linear(in_features=25088, out_features=4096, bias=True)\n",
      "    (1): ReLU()\n",
      "    (2): Dropout(p=0.5, inplace=False)\n",
      "    (3): Linear(in_features=4096, out_features=4096, bias=True)\n",
      "    (4): ReLU()\n",
      "    (5): Dropout(p=0.5, inplace=False)\n",
      "    (6): Linear(in_features=4096, out_features=10, bias=True)\n",
      "  )\n",
      ")\n"
     ]
    }
   ],
   "source": [
    "vgg13 = VGG13().to(device)\n",
    "print(vgg13)"
   ]
  },
  {
   "cell_type": "markdown",
   "metadata": {},
   "source": [
    "### Hyper Parameters"
   ]
  },
  {
   "cell_type": "code",
   "execution_count": 5,
   "metadata": {},
   "outputs": [],
   "source": [
    "learning_rate = 0.001\n",
    "epochs = 5\n",
    "\n",
    "loss_fn = nn.CrossEntropyLoss()\n",
    "optimizer = torch.optim.Adam(vgg13.parameters(), lr=learning_rate)"
   ]
  },
  {
   "cell_type": "markdown",
   "metadata": {},
   "source": [
    "### Train"
   ]
  },
  {
   "cell_type": "code",
   "execution_count": 6,
   "metadata": {},
   "outputs": [
    {
     "name": "stdout",
     "output_type": "stream",
     "text": [
      "-------------------------------\n",
      "Epoch 1\n",
      "loss: 2.337640 [    0/50000]\n",
      "loss: 7.743907 [ 1024/50000]\n",
      "loss: 5.321716 [ 2048/50000]\n",
      "loss: 3.057783 [ 3072/50000]\n",
      "loss: 2.312211 [ 4096/50000]\n",
      "loss: 2.311805 [ 5120/50000]\n",
      "loss: 2.299826 [ 6144/50000]\n",
      "loss: 2.301305 [ 7168/50000]\n",
      "loss: 2.306936 [ 8192/50000]\n",
      "loss: 2.289879 [ 9216/50000]\n",
      "loss: 2.315549 [10240/50000]\n",
      "loss: 2.303707 [11264/50000]\n",
      "loss: 2.295030 [12288/50000]\n",
      "loss: 2.310058 [13312/50000]\n",
      "loss: 2.309554 [14336/50000]\n",
      "loss: 2.312754 [15360/50000]\n",
      "loss: 2.301589 [16384/50000]\n",
      "loss: 2.294831 [17408/50000]\n",
      "loss: 2.296361 [18432/50000]\n",
      "loss: 2.297880 [19456/50000]\n",
      "loss: 2.307946 [20480/50000]\n",
      "loss: 2.315095 [21504/50000]\n",
      "loss: 2.307427 [22528/50000]\n",
      "loss: 2.305738 [23552/50000]\n",
      "loss: 2.315507 [24576/50000]\n",
      "loss: 2.295645 [25600/50000]\n",
      "loss: 2.322690 [26624/50000]\n",
      "loss: 2.314177 [27648/50000]\n",
      "loss: 2.285610 [28672/50000]\n",
      "loss: 2.290216 [29696/50000]\n",
      "loss: 2.307653 [30720/50000]\n",
      "loss: 2.291765 [31744/50000]\n",
      "loss: 2.318243 [32768/50000]\n",
      "loss: 2.277892 [33792/50000]\n",
      "loss: 2.303212 [34816/50000]\n",
      "loss: 2.295883 [35840/50000]\n",
      "loss: 2.305955 [36864/50000]\n",
      "loss: 2.305808 [37888/50000]\n",
      "loss: 2.313186 [38912/50000]\n",
      "loss: 2.309975 [39936/50000]\n",
      "loss: 2.318737 [40960/50000]\n",
      "loss: 2.302715 [41984/50000]\n",
      "loss: 2.308092 [43008/50000]\n",
      "loss: 2.297393 [44032/50000]\n",
      "loss: 2.315367 [45056/50000]\n",
      "loss: 2.299852 [46080/50000]\n",
      "loss: 2.280414 [47104/50000]\n",
      "loss: 2.260252 [48128/50000]\n",
      "loss: 2.304274 [49152/50000]\n",
      "Epoch average loss: 2.546073\n",
      "-------------------------------\n",
      "Epoch 2\n",
      "loss: 2.308744 [    0/50000]\n",
      "loss: 2.292945 [ 1024/50000]\n",
      "loss: 2.311269 [ 2048/50000]\n",
      "loss: 2.308002 [ 3072/50000]\n",
      "loss: 2.357471 [ 4096/50000]\n",
      "loss: 2.304159 [ 5120/50000]\n",
      "loss: 2.304409 [ 6144/50000]\n",
      "loss: 2.308219 [ 7168/50000]\n",
      "loss: 2.291780 [ 8192/50000]\n",
      "loss: 2.292484 [ 9216/50000]\n",
      "loss: 2.318688 [10240/50000]\n",
      "loss: 2.306792 [11264/50000]\n",
      "loss: 2.288172 [12288/50000]\n",
      "loss: 2.319094 [13312/50000]\n",
      "loss: 2.302308 [14336/50000]\n",
      "loss: 2.308068 [15360/50000]\n",
      "loss: 2.325788 [16384/50000]\n",
      "loss: 2.313191 [17408/50000]\n",
      "loss: 2.307023 [18432/50000]\n",
      "loss: 2.296404 [19456/50000]\n",
      "loss: 2.307873 [20480/50000]\n",
      "loss: 2.314325 [21504/50000]\n",
      "loss: 2.313735 [22528/50000]\n",
      "loss: 2.309244 [23552/50000]\n",
      "loss: 2.293239 [24576/50000]\n",
      "loss: 2.281492 [25600/50000]\n",
      "loss: 2.317172 [26624/50000]\n",
      "loss: 2.304726 [27648/50000]\n",
      "loss: 2.278399 [28672/50000]\n",
      "loss: 2.284847 [29696/50000]\n",
      "loss: 2.312224 [30720/50000]\n",
      "loss: 2.294003 [31744/50000]\n",
      "loss: 2.327826 [32768/50000]\n",
      "loss: 2.278892 [33792/50000]\n",
      "loss: 2.301040 [34816/50000]\n",
      "loss: 2.304402 [35840/50000]\n",
      "loss: 2.309030 [36864/50000]\n",
      "loss: 2.302919 [37888/50000]\n",
      "loss: 2.299076 [38912/50000]\n",
      "loss: 2.317143 [39936/50000]\n",
      "loss: 2.324593 [40960/50000]\n",
      "loss: 2.301042 [41984/50000]\n",
      "loss: 2.298076 [43008/50000]\n",
      "loss: 2.297793 [44032/50000]\n",
      "loss: 2.309498 [45056/50000]\n",
      "loss: 2.309928 [46080/50000]\n",
      "loss: 2.285692 [47104/50000]\n",
      "loss: 2.293052 [48128/50000]\n",
      "loss: 2.301952 [49152/50000]\n",
      "Epoch average loss: 2.304239\n",
      "-------------------------------\n",
      "Epoch 3\n",
      "loss: 2.317315 [    0/50000]\n",
      "loss: 2.293244 [ 1024/50000]\n",
      "loss: 2.288705 [ 2048/50000]\n",
      "loss: 2.312861 [ 3072/50000]\n",
      "loss: 2.324336 [ 4096/50000]\n",
      "loss: 2.313142 [ 5120/50000]\n",
      "loss: 2.299875 [ 6144/50000]\n",
      "loss: 2.296970 [ 7168/50000]\n",
      "loss: 2.308713 [ 8192/50000]\n",
      "loss: 2.287694 [ 9216/50000]\n",
      "loss: 2.314406 [10240/50000]\n",
      "loss: 2.305171 [11264/50000]\n",
      "loss: 2.304100 [12288/50000]\n",
      "loss: 2.294922 [13312/50000]\n",
      "loss: 2.300874 [14336/50000]\n",
      "loss: 2.307355 [15360/50000]\n",
      "loss: 2.297894 [16384/50000]\n",
      "loss: 2.290570 [17408/50000]\n",
      "loss: 2.297118 [18432/50000]\n",
      "loss: 2.306507 [19456/50000]\n",
      "loss: 2.305437 [20480/50000]\n",
      "loss: 2.304878 [21504/50000]\n",
      "loss: 2.298286 [22528/50000]\n",
      "loss: 2.309538 [23552/50000]\n",
      "loss: 2.296704 [24576/50000]\n",
      "loss: 2.302073 [25600/50000]\n",
      "loss: 2.307150 [26624/50000]\n",
      "loss: 2.305183 [27648/50000]\n",
      "loss: 2.300334 [28672/50000]\n",
      "loss: 2.291187 [29696/50000]\n",
      "loss: 2.307156 [30720/50000]\n",
      "loss: 2.294431 [31744/50000]\n",
      "loss: 2.306188 [32768/50000]\n",
      "loss: 2.287496 [33792/50000]\n",
      "loss: 2.301444 [34816/50000]\n",
      "loss: 2.298456 [35840/50000]\n",
      "loss: 2.300121 [36864/50000]\n",
      "loss: 2.302830 [37888/50000]\n",
      "loss: 2.308306 [38912/50000]\n",
      "loss: 2.310330 [39936/50000]\n",
      "loss: 2.305711 [40960/50000]\n",
      "loss: 2.303073 [41984/50000]\n",
      "loss: 2.301869 [43008/50000]\n",
      "loss: 2.298527 [44032/50000]\n",
      "loss: 2.309937 [45056/50000]\n",
      "loss: 2.302402 [46080/50000]\n",
      "loss: 2.290885 [47104/50000]\n",
      "loss: 2.295437 [48128/50000]\n",
      "loss: 2.299722 [49152/50000]\n",
      "Epoch average loss: 2.303101\n",
      "-------------------------------\n",
      "Epoch 4\n",
      "loss: 2.310043 [    0/50000]\n",
      "loss: 2.301072 [ 1024/50000]\n",
      "loss: 2.300808 [ 2048/50000]\n",
      "loss: 2.303104 [ 3072/50000]\n",
      "loss: 2.316387 [ 4096/50000]\n",
      "loss: 2.314052 [ 5120/50000]\n",
      "loss: 2.299379 [ 6144/50000]\n",
      "loss: 2.301567 [ 7168/50000]\n",
      "loss: 2.304354 [ 8192/50000]\n",
      "loss: 2.296602 [ 9216/50000]\n",
      "loss: 2.304884 [10240/50000]\n",
      "loss: 2.300286 [11264/50000]\n",
      "loss: 2.305445 [12288/50000]\n",
      "loss: 2.302022 [13312/50000]\n",
      "loss: 2.302589 [14336/50000]\n",
      "loss: 2.306851 [15360/50000]\n",
      "loss: 2.298460 [16384/50000]\n",
      "loss: 2.293300 [17408/50000]\n",
      "loss: 2.301728 [18432/50000]\n",
      "loss: 2.299989 [19456/50000]\n",
      "loss: 2.306148 [20480/50000]\n",
      "loss: 2.304746 [21504/50000]\n",
      "loss: 2.297440 [22528/50000]\n",
      "loss: 2.310933 [23552/50000]\n",
      "loss: 2.301740 [24576/50000]\n",
      "loss: 2.306127 [25600/50000]\n",
      "loss: 2.307632 [26624/50000]\n",
      "loss: 2.303433 [27648/50000]\n",
      "loss: 2.300835 [28672/50000]\n",
      "loss: 2.289675 [29696/50000]\n",
      "loss: 2.305452 [30720/50000]\n",
      "loss: 2.296647 [31744/50000]\n",
      "loss: 2.308798 [32768/50000]\n",
      "loss: 2.292192 [33792/50000]\n",
      "loss: 2.300545 [34816/50000]\n",
      "loss: 2.298796 [35840/50000]\n",
      "loss: 2.302178 [36864/50000]\n",
      "loss: 2.302639 [37888/50000]\n",
      "loss: 2.308450 [38912/50000]\n",
      "loss: 2.309751 [39936/50000]\n",
      "loss: 2.305886 [40960/50000]\n",
      "loss: 2.303882 [41984/50000]\n",
      "loss: 2.302368 [43008/50000]\n",
      "loss: 2.298897 [44032/50000]\n",
      "loss: 2.309577 [45056/50000]\n",
      "loss: 2.303108 [46080/50000]\n",
      "loss: 2.291873 [47104/50000]\n",
      "loss: 2.294999 [48128/50000]\n",
      "loss: 2.300232 [49152/50000]\n",
      "Epoch average loss: 2.302954\n",
      "-------------------------------\n",
      "Epoch 5\n",
      "loss: 2.309948 [    0/50000]\n",
      "loss: 2.300270 [ 1024/50000]\n",
      "loss: 2.300611 [ 2048/50000]\n",
      "loss: 2.303598 [ 3072/50000]\n",
      "loss: 2.316701 [ 4096/50000]\n",
      "loss: 2.313881 [ 5120/50000]\n",
      "loss: 2.299194 [ 6144/50000]\n",
      "loss: 2.301242 [ 7168/50000]\n",
      "loss: 2.304467 [ 8192/50000]\n",
      "loss: 2.296457 [ 9216/50000]\n",
      "loss: 2.305052 [10240/50000]\n",
      "loss: 2.300159 [11264/50000]\n",
      "loss: 2.305362 [12288/50000]\n",
      "loss: 2.302140 [13312/50000]\n",
      "loss: 2.302581 [14336/50000]\n",
      "loss: 2.306766 [15360/50000]\n",
      "loss: 2.298288 [16384/50000]\n",
      "loss: 2.293341 [17408/50000]\n",
      "loss: 2.301746 [18432/50000]\n",
      "loss: 2.300081 [19456/50000]\n",
      "loss: 2.306089 [20480/50000]\n",
      "loss: 2.304685 [21504/50000]\n",
      "loss: 2.297342 [22528/50000]\n",
      "loss: 2.310971 [23552/50000]\n",
      "loss: 2.301751 [24576/50000]\n",
      "loss: 2.306155 [25600/50000]\n",
      "loss: 2.307650 [26624/50000]\n",
      "loss: 2.303404 [27648/50000]\n",
      "loss: 2.300839 [28672/50000]\n",
      "loss: 2.289665 [29696/50000]\n",
      "loss: 2.305447 [30720/50000]\n",
      "loss: 2.296643 [31744/50000]\n",
      "loss: 2.308792 [32768/50000]\n",
      "loss: 2.292208 [33792/50000]\n",
      "loss: 2.300539 [34816/50000]\n",
      "loss: 2.298800 [35840/50000]\n",
      "loss: 2.302177 [36864/50000]\n",
      "loss: 2.302640 [37888/50000]\n",
      "loss: 2.308444 [38912/50000]\n",
      "loss: 2.309744 [39936/50000]\n",
      "loss: 2.305890 [40960/50000]\n",
      "loss: 2.303883 [41984/50000]\n",
      "loss: 2.302369 [43008/50000]\n",
      "loss: 2.298901 [44032/50000]\n",
      "loss: 2.309576 [45056/50000]\n",
      "loss: 2.303110 [46080/50000]\n",
      "loss: 2.291876 [47104/50000]\n",
      "loss: 2.294997 [48128/50000]\n",
      "loss: 2.300233 [49152/50000]\n",
      "Epoch average loss: 2.302955\n",
      "Test Error: \n",
      " Accuracy: 9.9%, Avg loss: 3.928212 \n",
      "\n",
      "Done!\n"
     ]
    }
   ],
   "source": [
    "for t in range(epochs):\n",
    "    print(f\"-------------------------------\\nEpoch {t+1}\")\n",
    "    train(train_loader, vgg13, loss_fn, optimizer)\n",
    "test(test_loader, vgg13, loss_fn)\n",
    "print(\"Done!\")"
   ]
  },
  {
   "cell_type": "markdown",
   "metadata": {},
   "source": [
    "### Test"
   ]
  },
  {
   "cell_type": "code",
   "execution_count": 7,
   "metadata": {},
   "outputs": [
    {
     "data": {
      "image/png": "[encoded data removed]",
      "text/plain": [
       "<Figure size 1000x700 with 2 Axes>"
      ]
     },
     "metadata": {},
     "output_type": "display_data"
    }
   ],
   "source": [
    "vgg13.eval()  # Set the model to evaluation mode\n",
    "all_preds = []\n",
    "all_labels = []\n",
    "\n",
    "# Iterate over the test data and generate predictions\n",
    "with torch.no_grad():\n",
    "    for inputs, labels in test_loader:\n",
    "        inputs, labels = inputs.to(device), labels.to(device)\n",
    "        outputs = vgg13(inputs)\n",
    "        _, preds = torch.max(outputs, 1)\n",
    "        all_preds.extend(preds.cpu().numpy())\n",
    "        all_labels.extend(labels.cpu().numpy())\n",
    "\n",
    "# Convert to numpy arrays\n",
    "all_preds = np.array(all_preds)\n",
    "all_labels = np.array(all_labels)\n",
    "\n",
    "# Compute confusion matrix\n",
    "cm = confusion_matrix(all_labels, all_preds)\n",
    "cm_normalized = cm.astype('float') / cm.sum(axis=1)[:, np.newaxis]\n",
    "\n",
    "plt.figure(figsize=(10, 7))\n",
    "sns.heatmap(cm_normalized, annot=True, fmt='.2f', cmap='Blues')\n",
    "plt.xlabel('Predicted')\n",
    "plt.ylabel('True')\n",
    "plt.show()"
   ]
  },
  {
   "cell_type": "markdown",
   "metadata": {},
   "source": [
    "## AlexNet"
   ]
  },
  {
   "cell_type": "code",
   "execution_count": 8,
   "metadata": {
    "colab": {
     "base_uri": "https://localhost:8080/"
    },
    "executionInfo": {
     "elapsed": 189,
     "status": "ok",
     "timestamp": 1740513371894,
     "user": {
      "displayName": "JOAO VICTOR CORREA DE ALMEIDA",
      "userId": "08522568365246387241"
     },
     "user_tz": 180
    },
    "id": "LwD_4CpKnvFy",
    "outputId": "9e824288-75ae-4e3f-ef4d-d24372724063"
   },
   "outputs": [
    {
     "name": "stdout",
     "output_type": "stream",
     "text": [
      "AlexNet(\n",
      "  (conv_layer): Sequential(\n",
      "    (0): Conv2d(3, 96, kernel_size=(11, 11), stride=(4, 4))\n",
      "    (1): ReLU()\n",
      "    (2): MaxPool2d(kernel_size=3, stride=2, padding=0, dilation=1, ceil_mode=False)\n",
      "    (3): Conv2d(96, 256, kernel_size=(5, 5), stride=(1, 1), padding=(2, 2))\n",
      "    (4): ReLU()\n",
      "    (5): MaxPool2d(kernel_size=3, stride=2, padding=0, dilation=1, ceil_mode=False)\n",
      "    (6): Conv2d(256, 384, kernel_size=(3, 3), stride=(1, 1), padding=(1, 1))\n",
      "    (7): ReLU()\n",
      "    (8): Conv2d(384, 384, kernel_size=(3, 3), stride=(1, 1), padding=(1, 1))\n",
      "    (9): ReLU()\n",
      "    (10): Conv2d(384, 256, kernel_size=(3, 3), stride=(1, 1), padding=(1, 1))\n",
      "    (11): ReLU()\n",
      "    (12): MaxPool2d(kernel_size=3, stride=2, padding=0, dilation=1, ceil_mode=False)\n",
      "  )\n",
      "  (flatten): Flatten(start_dim=1, end_dim=-1)\n",
      "  (full_layer): Sequential(\n",
      "    (0): Linear(in_features=9216, out_features=4096, bias=True)\n",
      "    (1): ReLU()\n",
      "    (2): Linear(in_features=4096, out_features=4096, bias=True)\n",
      "    (3): ReLU()\n",
      "    (4): Linear(in_features=4096, out_features=10, bias=True)\n",
      "  )\n",
      ")\n"
     ]
    }
   ],
   "source": [
    "alexnet = AlexNet().to(device)\n",
    "print(alexnet)"
   ]
  },
  {
   "cell_type": "markdown",
   "metadata": {},
   "source": [
    "### Hyper Parameters"
   ]
  },
  {
   "cell_type": "code",
   "execution_count": 9,
   "metadata": {
    "executionInfo": {
     "elapsed": 10,
     "status": "ok",
     "timestamp": 1740513371902,
     "user": {
      "displayName": "JOAO VICTOR CORREA DE ALMEIDA",
      "userId": "08522568365246387241"
     },
     "user_tz": 180
    },
    "id": "cJoll5r5pe5v"
   },
   "outputs": [],
   "source": [
    "learning_rate = 0.001\n",
    "epochs = 5\n",
    "\n",
    "loss_fn = nn.CrossEntropyLoss()\n",
    "optimizer = torch.optim.Adam(alexnet.parameters(), lr=learning_rate)"
   ]
  },
  {
   "cell_type": "markdown",
   "metadata": {},
   "source": [
    "### Train"
   ]
  },
  {
   "cell_type": "code",
   "execution_count": 10,
   "metadata": {
    "colab": {
     "base_uri": "https://localhost:8080/",
     "height": 964
    },
    "executionInfo": {
     "elapsed": 21944,
     "status": "error",
     "timestamp": 1740513393852,
     "user": {
      "displayName": "JOAO VICTOR CORREA DE ALMEIDA",
      "userId": "08522568365246387241"
     },
     "user_tz": 180
    },
    "id": "ffGWDhVcpqik",
    "outputId": "57035562-c3e2-41de-8004-c93e42a23449"
   },
   "outputs": [
    {
     "name": "stdout",
     "output_type": "stream",
     "text": [
      "-------------------------------\n",
      "Epoch 1\n",
      "loss: 2.300751 [    0/50000]\n",
      "loss: 2.299767 [ 1024/50000]\n",
      "loss: 2.312573 [ 2048/50000]\n",
      "loss: 2.310058 [ 3072/50000]\n",
      "loss: 2.335584 [ 4096/50000]\n",
      "loss: 2.303738 [ 5120/50000]\n",
      "loss: 2.297013 [ 6144/50000]\n",
      "loss: 2.302184 [ 7168/50000]\n",
      "loss: 2.304862 [ 8192/50000]\n",
      "loss: 2.294783 [ 9216/50000]\n",
      "loss: 2.307423 [10240/50000]\n",
      "loss: 2.301349 [11264/50000]\n",
      "loss: 2.304394 [12288/50000]\n",
      "loss: 2.301732 [13312/50000]\n",
      "loss: 2.303105 [14336/50000]\n",
      "loss: 2.306554 [15360/50000]\n",
      "loss: 2.297076 [16384/50000]\n",
      "loss: 2.291605 [17408/50000]\n",
      "loss: 2.301523 [18432/50000]\n",
      "loss: 2.299304 [19456/50000]\n",
      "loss: 2.306435 [20480/50000]\n",
      "loss: 2.305217 [21504/50000]\n",
      "loss: 2.295892 [22528/50000]\n",
      "loss: 2.311646 [23552/50000]\n",
      "loss: 2.301292 [24576/50000]\n",
      "loss: 2.306691 [25600/50000]\n",
      "loss: 2.307656 [26624/50000]\n",
      "loss: 2.303465 [27648/50000]\n",
      "loss: 2.301157 [28672/50000]\n",
      "loss: 2.289495 [29696/50000]\n",
      "loss: 2.305433 [30720/50000]\n",
      "loss: 2.296431 [31744/50000]\n",
      "loss: 2.308960 [32768/50000]\n",
      "loss: 2.292275 [33792/50000]\n",
      "loss: 2.300443 [34816/50000]\n",
      "loss: 2.298759 [35840/50000]\n",
      "loss: 2.302360 [36864/50000]\n",
      "loss: 2.302555 [37888/50000]\n",
      "loss: 2.308395 [38912/50000]\n",
      "loss: 2.309611 [39936/50000]\n",
      "loss: 2.305740 [40960/50000]\n",
      "loss: 2.303767 [41984/50000]\n",
      "loss: 2.302428 [43008/50000]\n",
      "loss: 2.298932 [44032/50000]\n",
      "loss: 2.309601 [45056/50000]\n",
      "loss: 2.303167 [46080/50000]\n",
      "loss: 2.291891 [47104/50000]\n",
      "loss: 2.295020 [48128/50000]\n",
      "loss: 2.300237 [49152/50000]\n",
      "Epoch average loss: 2.306327\n",
      "-------------------------------\n",
      "Epoch 2\n",
      "loss: 2.309924 [    0/50000]\n",
      "loss: 2.300260 [ 1024/50000]\n",
      "loss: 2.300613 [ 2048/50000]\n",
      "loss: 2.303600 [ 3072/50000]\n",
      "loss: 2.316685 [ 4096/50000]\n",
      "loss: 2.313848 [ 5120/50000]\n",
      "loss: 2.299192 [ 6144/50000]\n",
      "loss: 2.301243 [ 7168/50000]\n",
      "loss: 2.304467 [ 8192/50000]\n",
      "loss: 2.296453 [ 9216/50000]\n",
      "loss: 2.305058 [10240/50000]\n",
      "loss: 2.300162 [11264/50000]\n",
      "loss: 2.305359 [12288/50000]\n",
      "loss: 2.302140 [13312/50000]\n",
      "loss: 2.302582 [14336/50000]\n",
      "loss: 2.306765 [15360/50000]\n",
      "loss: 2.298284 [16384/50000]\n",
      "loss: 2.293337 [17408/50000]\n",
      "loss: 2.301746 [18432/50000]\n",
      "loss: 2.300079 [19456/50000]\n",
      "loss: 2.306090 [20480/50000]\n"
     ]
    },
    {
     "ename": "KeyboardInterrupt",
     "evalue": "",
     "output_type": "error",
     "traceback": [
      "\u001b[0;31m---------------------------------------------------------------------------\u001b[0m",
      "\u001b[0;31mKeyboardInterrupt\u001b[0m                         Traceback (most recent call last)",
      "Cell \u001b[0;32mIn[10], line 3\u001b[0m\n\u001b[1;32m      1\u001b[0m \u001b[38;5;28;01mfor\u001b[39;00m t \u001b[38;5;129;01min\u001b[39;00m \u001b[38;5;28mrange\u001b[39m(epochs):\n\u001b[1;32m      2\u001b[0m     \u001b[38;5;28mprint\u001b[39m(\u001b[38;5;124mf\u001b[39m\u001b[38;5;124m\"\u001b[39m\u001b[38;5;124m-------------------------------\u001b[39m\u001b[38;5;130;01m\\n\u001b[39;00m\u001b[38;5;124mEpoch \u001b[39m\u001b[38;5;132;01m{\u001b[39;00mt\u001b[38;5;241m+\u001b[39m\u001b[38;5;241m1\u001b[39m\u001b[38;5;132;01m}\u001b[39;00m\u001b[38;5;124m\"\u001b[39m)\n\u001b[0;32m----> 3\u001b[0m     \u001b[43mtrain\u001b[49m\u001b[43m(\u001b[49m\u001b[43mtrain_loader\u001b[49m\u001b[43m,\u001b[49m\u001b[43m \u001b[49m\u001b[43malexnet\u001b[49m\u001b[43m,\u001b[49m\u001b[43m \u001b[49m\u001b[43mloss_fn\u001b[49m\u001b[43m,\u001b[49m\u001b[43m \u001b[49m\u001b[43moptimizer\u001b[49m\u001b[43m)\u001b[49m\n\u001b[1;32m      4\u001b[0m test(test_loader, alexnet, loss_fn)\n\u001b[1;32m      5\u001b[0m \u001b[38;5;28mprint\u001b[39m(\u001b[38;5;124m\"\u001b[39m\u001b[38;5;124mDone!\u001b[39m\u001b[38;5;124m\"\u001b[39m)\n",
      "Cell \u001b[0;32mIn[3], line 13\u001b[0m, in \u001b[0;36mtrain\u001b[0;34m(dataloader, model, loss_fn, optimizer)\u001b[0m\n\u001b[1;32m     10\u001b[0m \u001b[38;5;66;03m# Itera sobre os lotes\u001b[39;00m\n\u001b[1;32m     11\u001b[0m \u001b[38;5;28;01mfor\u001b[39;00m batch, (X, y) \u001b[38;5;129;01min\u001b[39;00m \u001b[38;5;28menumerate\u001b[39m(dataloader):\n\u001b[1;32m     12\u001b[0m     \u001b[38;5;66;03m# transforma as entradas no formato do dispositivo utilizado (CPU ou GPU)\u001b[39;00m\n\u001b[0;32m---> 13\u001b[0m     X, y \u001b[38;5;241m=\u001b[39m \u001b[43mX\u001b[49m\u001b[38;5;241;43m.\u001b[39;49m\u001b[43mto\u001b[49m\u001b[43m(\u001b[49m\u001b[43mdevice\u001b[49m\u001b[43m)\u001b[49m, y\u001b[38;5;241m.\u001b[39mto(device)\n\u001b[1;32m     15\u001b[0m     \u001b[38;5;66;03m# Faz a predição para os valores atuais dos parâmetros\u001b[39;00m\n\u001b[1;32m     16\u001b[0m     pred \u001b[38;5;241m=\u001b[39m model(X)\n",
      "\u001b[0;31mKeyboardInterrupt\u001b[0m: "
     ]
    }
   ],
   "source": [
    "for t in range(epochs):\n",
    "    print(f\"-------------------------------\\nEpoch {t+1}\")\n",
    "    train(train_loader, alexnet, loss_fn, optimizer)\n",
    "test(test_loader, alexnet, loss_fn)\n",
    "print(\"Done!\")"
   ]
  },
  {
   "cell_type": "markdown",
   "metadata": {},
   "source": [
    "### Test"
   ]
  },
  {
   "cell_type": "code",
   "execution_count": null,
   "metadata": {},
   "outputs": [],
   "source": [
    "alexnet.eval()  # Set the model to evaluation mode\n",
    "all_preds = []\n",
    "all_labels = []\n",
    "\n",
    "# Iterate over the test data and generate predictions\n",
    "with torch.no_grad():\n",
    "    for inputs, labels in test_loader:\n",
    "        inputs, labels = inputs.to(device), labels.to(device)\n",
    "        outputs = alexnet(inputs)\n",
    "        _, preds = torch.max(outputs, 1)\n",
    "        all_preds.extend(preds.cpu().numpy())\n",
    "        all_labels.extend(labels.cpu().numpy())\n",
    "\n",
    "# Convert to numpy arrays\n",
    "all_preds = np.array(all_preds)\n",
    "all_labels = np.array(all_labels)\n",
    "\n",
    "# Compute confusion matrix\n",
    "cm = confusion_matrix(all_labels, all_preds)\n",
    "cm_normalized = cm.astype('float') / cm.sum(axis=1)[:, np.newaxis]\n",
    "\n",
    "plt.figure(figsize=(10, 7))\n",
    "sns.heatmap(cm_normalized, annot=True, fmt='.2f', cmap='Blues')\n",
    "plt.xlabel('Predicted')\n",
    "plt.ylabel('True')\n",
    "plt.show()"
   ]
  },
  {
   "cell_type": "markdown",
   "metadata": {},
   "source": [
    "## FrankNet"
   ]
  },
  {
   "cell_type": "code",
   "execution_count": null,
   "metadata": {},
   "outputs": [],
   "source": [
    "franknet = FrankNet().to(device)\n",
    "print(franknet)"
   ]
  },
  {
   "cell_type": "markdown",
   "metadata": {},
   "source": [
    "### Hyper Parameters"
   ]
  },
  {
   "cell_type": "code",
   "execution_count": null,
   "metadata": {},
   "outputs": [],
   "source": [
    "learning_rate = 0.001\n",
    "epochs = 5\n",
    "\n",
    "loss_fn = nn.CrossEntropyLoss()\n",
    "optimizer = torch.optim.Adam(franknet.parameters(), lr=learning_rate)"
   ]
  },
  {
   "cell_type": "markdown",
   "metadata": {},
   "source": [
    "### Train"
   ]
  },
  {
   "cell_type": "code",
   "execution_count": null,
   "metadata": {},
   "outputs": [],
   "source": [
    "for t in range(epochs):\n",
    "    print(f\"-------------------------------\\nEpoch {t+1}\")\n",
    "    train(train_loader, franknet, loss_fn, optimizer)\n",
    "test(test_loader, franknet, loss_fn)\n",
    "print(\"Done!\")"
   ]
  },
  {
   "cell_type": "markdown",
   "metadata": {},
   "source": [
    "### Test"
   ]
  },
  {
   "cell_type": "code",
   "execution_count": null,
   "metadata": {},
   "outputs": [],
   "source": [
    "franknet.eval()  # Set the model to evaluation mode\n",
    "all_preds = []\n",
    "all_labels = []\n",
    "\n",
    "# Iterate over the test data and generate predictions\n",
    "with torch.no_grad():\n",
    "    for inputs, labels in test_loader:\n",
    "        inputs, labels = inputs.to(device), labels.to(device)\n",
    "        outputs = franknet(inputs)\n",
    "        _, preds = torch.max(outputs, 1)\n",
    "        all_preds.extend(preds.cpu().numpy())\n",
    "        all_labels.extend(labels.cpu().numpy())\n",
    "\n",
    "# Convert to numpy arrays\n",
    "all_preds = np.array(all_preds)\n",
    "all_labels = np.array(all_labels)\n",
    "\n",
    "# Compute confusion matrix\n",
    "cm = confusion_matrix(all_labels, all_preds)\n",
    "cm_normalized = cm.astype('float') / cm.sum(axis=1)[:, np.newaxis]\n",
    "\n",
    "plt.figure(figsize=(10, 7))\n",
    "sns.heatmap(cm_normalized, annot=True, fmt='.2f', cmap='Blues')\n",
    "plt.xlabel('Predicted')\n",
    "plt.ylabel('True')\n",
    "plt.show()"
   ]
  }
 ],
 "metadata": {
  "accelerator": "GPU",
  "colab": {
   "authorship_tag": "ABX9TyM9VAiQkBVvBrODyrlVHWtf",
   "gpuType": "T4",
   "provenance": []
  },
  "kernelspec": {
   "display_name": "Python 3",
   "name": "python3"
  },
  "language_info": {
   "codemirror_mode": {
    "name": "ipython",
    "version": 3
   },
   "file_extension": ".py",
   "mimetype": "text/x-python",
   "name": "python",
   "nbconvert_exporter": "python",
   "pygments_lexer": "ipython3",
   "version": "3.10.12"
  }
 },
 "nbformat": 4,
 "nbformat_minor": 0
}
